{
 "cells": [
  {
   "cell_type": "code",
   "execution_count": null,
   "metadata": {},
   "outputs": [],
   "source": [
    "# Importing pcharmm libraries\n",
    "\n",
    "import pycharmm\n",
    "import pycharmm.psf as psf\n",
    "import pycharmm.read as read\n",
    "import pycharmm.write as write\n",
    "import pycharmm.settings as settings\n",
    "import pycharmm.lingo as lingo\n",
    "\n",
    "from pycharmm.lib import charmm as libcharmm"
   ]
  },
  {
   "cell_type": "code",
   "execution_count": null,
   "metadata": {},
   "outputs": [],
   "source": [
    "# Load the topology files using pyCHARMM  \n",
    "read.stream('toppar.str')"
   ]
  },
  {
   "cell_type": "code",
   "execution_count": null,
   "metadata": {},
   "outputs": [],
   "source": [
    "# Load the psf file using psf_card in pyCHARMM\n",
    "\n",
    "read.psf_card('traj.psf')\n",
    "psf.get_nres()"
   ]
  },
  {
   "cell_type": "code",
   "execution_count": null,
   "metadata": {},
   "outputs": [],
   "source": [
    "#Define the input and output files\n",
    "#Input: trajectory file\n",
    "#Output: order parameter file\n",
    "\n",
    "#remove the old order.dat file\n",
    "import os\n",
    "if os.path.exists('order.dat'):\n",
    "    os.remove('order.dat')\n",
    "\n",
    "indcd = 'traj.dcd' \n",
    "outdat = 'order.dat'\n",
    "\n",
    "\n",
    "#CHARMM units are used to read and write files\n",
    "pycharmm.lingo.charmm_script('open unit 21 write form name ' + outdat ) \n",
    "pycharmm.lingo.charmm_script('open unit 62 read unform name ' + indcd )\n",
    "\n",
    "#Print Trajectory Information\n",
    "pycharmm.lingo.charmm_script('TRAJectory QUERy UNIT 62') "
   ]
  },
  {
   "cell_type": "code",
   "execution_count": null,
   "metadata": {},
   "outputs": [],
   "source": [
    "#CHARMM STtream File Generation for NMR Module, Set options for NMR module\n",
    "nmr_stream = '''* NMR Order Parameter Calculation       !!Stream File Title\n",
    "*                                                       !! Syntax Requirement\n",
    "                                                        !! Blank line, Syntax Requirement    \n",
    "NMR                                                     !! NMR module Start    \n",
    "RESEt                                                   !! Reset NMR module\n",
    "RTIMes sele atom * * N end sele atom * * HN end         !! Select the atoms to calculate the order parameter\n",
    "DYNA firstu 62 -                                        !! unit number to read from (same as dcd unit)\n",
    "     nunit 1 -                                          !! number of units to read\n",
    "     begin 1 -                                          !! first frame to read\n",
    "     stop 1124 -                                        !! last frame to read\n",
    "     skip 1 -                                           !! read every skip frames\n",
    "     tmax 3.0 -                                         !! maximum time for correlation function\n",
    "     cut 2.0 -                                          !! cut-off for correlation function\n",
    "     ilist 21 -                                         !! unit number to write to (same as outdat unit)\n",
    "     dsigma -160.0 C(t) !                               !! correlation function\n",
    "END                                                     !! End of NMR module ! More option can be seen from the documentation\n",
    "\n",
    "\n",
    "RETURN\n",
    "'''\n",
    "with open('nmr.str', 'w') as f:\n",
    "    f.write(nmr_stream)\n",
    "\n",
    "# Running NMR Module via read option in pyCHARMM\n",
    "read.stream('nmr.str')"
   ]
  },
  {
   "cell_type": "code",
   "execution_count": null,
   "metadata": {},
   "outputs": [],
   "source": [
    "#Plotting the RESI vs <S2> plot from the order.dat file\n",
    "\n",
    "import numpy as np\n",
    "import matplotlib.pyplot as plt\n",
    "\n",
    "# Load data from 'order.dat', skipping the header row\n",
    "data = np.genfromtxt('order.dat', skip_header=1, usecols=(0, 6), dtype=float, filling_values=np.nan)\n",
    "\n",
    "# Remove rows with NaN values (rows that had non-numeric data)\n",
    "data = data[~np.isnan(data).any(axis=1)]\n",
    "\n",
    "# Extract 'resi' and '<S2>' columns from the data\n",
    "resi_values = data[:, 0]  # Assuming 'resi' is in the first column (index 0)\n",
    "s2_values = data[:, 1]     # Assuming '<s2>' is in the second column (index 1)\n",
    "\n",
    "# Plotting using matplotlib\n",
    "plt.plot(resi_values, s2_values, marker='o')\n",
    "plt.xlabel('RESI')\n",
    "plt.ylabel('<S2>')\n",
    "plt.title('RESI vs <S2> Plot')\n",
    "plt.grid(True)\n",
    "plt.show()"
   ]
  }
 ],
 "metadata": {
  "kernelspec": {
   "display_name": "pycharmm2",
   "language": "python",
   "name": "python3"
  },
  "language_info": {
   "codemirror_mode": {
    "name": "ipython",
    "version": 3
   },
   "file_extension": ".py",
   "mimetype": "text/x-python",
   "name": "python",
   "nbconvert_exporter": "python",
   "pygments_lexer": "ipython3",
   "version": "3.9.16"
  },
  "orig_nbformat": 4
 },
 "nbformat": 4,
 "nbformat_minor": 2
}
