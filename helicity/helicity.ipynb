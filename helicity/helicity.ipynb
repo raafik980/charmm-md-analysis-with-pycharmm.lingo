{
 "cells": [
  {
   "cell_type": "code",
   "execution_count": 2,
   "metadata": {},
   "outputs": [],
   "source": [
    "# Importing pcharmm libraries\n",
    "\n",
    "import pycharmm\n",
    "import pycharmm.psf as psf\n",
    "import pycharmm.read as read\n",
    "import pycharmm.write as write\n",
    "import pycharmm.settings as settings\n",
    "import pycharmm.lingo as lingo\n",
    "\n",
    "from pycharmm.lib import charmm as libcharmm"
   ]
  },
  {
   "cell_type": "code",
   "execution_count": null,
   "metadata": {},
   "outputs": [],
   "source": [
    "# Load the topology files using pyCHARMM  \n",
    "read.stream('toppar.str')"
   ]
  },
  {
   "cell_type": "code",
   "execution_count": null,
   "metadata": {},
   "outputs": [],
   "source": [
    "# Load the psf file using psf_card in pyCHARMM\n",
    "\n",
    "read.psf_card('traj.psf')\n",
    "psf.get_nres()"
   ]
  },
  {
   "cell_type": "code",
   "execution_count": null,
   "metadata": {},
   "outputs": [],
   "source": [
    "#Define the input and output files\n",
    "#Input: trajectory file\n",
    "#Output: order parameter file\n",
    "\n",
    "#remove the old order.dat file\n",
    "import os\n",
    "if os.path.exists('order.dat'):\n",
    "    os.remove('order.dat')\n",
    "\n",
    "indcd = 'traj.dcd' \n",
    "outdat = 'order.dat'\n",
    "\n",
    "\n",
    "#CHARMM units are used to read and write files\n",
    "pycharmm.lingo.charmm_script('open unit 21 write form name ' + outdat ) \n",
    "pycharmm.lingo.charmm_script('open unit 62 read unform name ' + indcd )\n",
    "\n",
    "#Print Trajectory Information\n",
    "pycharmm.lingo.charmm_script('TRAJectory QUERy UNIT 62') "
   ]
  },
  {
   "cell_type": "code",
   "execution_count": null,
   "metadata": {},
   "outputs": [],
   "source": [
    "#CHARMM STtream File Generation for NMR Module, Set options for NMR module\n",
    "helicity_stream = '''* Helicity Calculation             !! * TITLE      : SYNTAX REQUIRED FOR STREAM\n",
    "*                                                       !! *            :SYNTAX REQUIRED FOR STREAM\n",
    "                                                        !! <EMPTY_LINE> : SYNTAX REQUIRED FOR STREAM  \n",
    "CORREL MAXTIME 300000  MAXSERIES 10                                 !! CORREL START: MAXTIME SHOULD BE MORE THAN THE ACTUAL NUMBER OF SNAPSHOTS IN DCD \n",
    "    ENTER V1 HELIX SELECT SEGID PROA -\n",
    "    .AND. ( RESID 161:173 ) - \n",
    "    .AND. ( atom * * O .or. atom * * C .or. atom * * CA .or. atom * * N ) END                       !!\n",
    "    TRAJ FIRSTU 62 NUNIT 1 BEGIN 1 ! STOP 1124 SKIP 1       !!\n",
    "    WRITE V1 DUMB TIME UNIT 21                          !!\n",
    "END                                                     !! CORREL END  \n",
    "\n",
    "RETURN\n",
    "'''\n",
    "with open('helicity.str', 'w') as f:\n",
    "    f.write(helicity_stream)\n",
    "\n",
    "# Running NMR Module via read option in pyCHARMM\n",
    "read.stream('helicity.str')"
   ]
  },
  {
   "cell_type": "code",
   "execution_count": null,
   "metadata": {},
   "outputs": [],
   "source": [
    "#Plotting the RESI vs <S2> plot from the order.dat file\n"
   ]
  }
 ],
 "metadata": {
  "kernelspec": {
   "display_name": "pycharmm2",
   "language": "python",
   "name": "python3"
  },
  "language_info": {
   "codemirror_mode": {
    "name": "ipython",
    "version": 3
   },
   "file_extension": ".py",
   "mimetype": "text/x-python",
   "name": "python",
   "nbconvert_exporter": "python",
   "pygments_lexer": "ipython3",
   "version": "3.9.16"
  },
  "orig_nbformat": 4
 },
 "nbformat": 4,
 "nbformat_minor": 2
}
